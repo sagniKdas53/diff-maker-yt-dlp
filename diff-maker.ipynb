{
 "cells": [
  {
   "cell_type": "markdown",
   "id": "7a768c49",
   "metadata": {},
   "source": [
    "# Setup\n",
    "\n",
    "## Get the list of files using the command\n",
    "\n",
    "    yt-dlp --flat-playlist --print \"%(title)s [%(id)s]\" \"your url here\" > online.txt\n",
    "\n",
    "## Get the local list\n",
    "\n",
    "    `ls folder/ > loacl.txt`"
   ]
  },
  {
   "cell_type": "code",
   "execution_count": 1,
   "id": "cbb9ab13",
   "metadata": {
    "scrolled": true
   },
   "outputs": [
    {
     "name": "stdout",
     "output_type": "stream",
     "text": [
      "Defaulting to user installation because normal site-packages is not writeable\n",
      "Requirement already satisfied: yt-dlp in /home/sagnik/.local/lib/python3.8/site-packages (2022.3.8.2)\n",
      "Requirement already satisfied: mutagen in /usr/local/lib/python3.8/dist-packages (from yt-dlp) (1.45.1)\n",
      "Requirement already satisfied: websockets in /usr/local/lib/python3.8/dist-packages (from yt-dlp) (10.0)\n",
      "Requirement already satisfied: pycryptodomex in /home/sagnik/.local/lib/python3.8/site-packages (from yt-dlp) (3.14.1)\n",
      "Requirement already satisfied: brotli in /home/sagnik/.local/lib/python3.8/site-packages (from yt-dlp) (1.0.9)\n",
      "\u001b[33mWARNING: There was an error checking the latest version of pip.\u001b[0m\u001b[33m\n",
      "\u001b[0m"
     ]
    }
   ],
   "source": [
    "import sys\n",
    "!{sys.executable} -m pip install yt-dlp"
   ]
  },
  {
   "cell_type": "code",
   "execution_count": 56,
   "id": "4db11882",
   "metadata": {},
   "outputs": [],
   "source": [
    "from os import path,environ,makedirs,chdir"
   ]
  },
  {
   "cell_type": "code",
   "execution_count": 33,
   "id": "277d89ac",
   "metadata": {},
   "outputs": [],
   "source": [
    "url = input(\"Enter the url to download form: \")"
   ]
  },
  {
   "cell_type": "code",
   "execution_count": 34,
   "id": "7b3b1320",
   "metadata": {},
   "outputs": [
    {
     "name": "stdout",
     "output_type": "stream",
     "text": [
      "https://www.youtube.com/watch?v=uzEEffCJOjs\n"
     ]
    }
   ],
   "source": [
    "print(url)\n"
   ]
  },
  {
   "cell_type": "code",
   "execution_count": 35,
   "id": "265f3843",
   "metadata": {},
   "outputs": [],
   "source": [
    "environ[\"url\"] = url"
   ]
  },
  {
   "cell_type": "code",
   "execution_count": 36,
   "id": "29b5be03",
   "metadata": {},
   "outputs": [],
   "source": [
    "%%bash\n",
    "yt-dlp --flat-playlist --print \"%(title)s [%(id)s]\" $url > online.txt"
   ]
  },
  {
   "cell_type": "code",
   "execution_count": 8,
   "id": "baaac0e0",
   "metadata": {
    "scrolled": false
   },
   "outputs": [],
   "source": [
    "path_to_save = input(\"Enter the full path: \")\n",
    "if not path.exists(path_to_save):\n",
    "    makedirs(path_to_save)\n",
    "environ['path_to_save'] = path_to_save\n",
    "# windows users ugh, idk do it how they do it on windows"
   ]
  },
  {
   "cell_type": "code",
   "execution_count": 9,
   "id": "9285fdb5",
   "metadata": {},
   "outputs": [
    {
     "name": "stdout",
     "output_type": "stream",
     "text": [
      "/home/sagnik/Desktop/IRyS\n"
     ]
    }
   ],
   "source": [
    "%%bash\n",
    "echo $path_to_save"
   ]
  },
  {
   "cell_type": "code",
   "execution_count": 10,
   "id": "9ae71709",
   "metadata": {},
   "outputs": [],
   "source": [
    "%%bash --out working_dir\n",
    "echo $PWD >&1"
   ]
  },
  {
   "cell_type": "code",
   "execution_count": 11,
   "id": "831a71f6",
   "metadata": {},
   "outputs": [
    {
     "name": "stdout",
     "output_type": "stream",
     "text": [
      "/home/sagnik/Projects/diff-maker\n",
      "\n"
     ]
    }
   ],
   "source": [
    "print(working_dir)"
   ]
  },
  {
   "cell_type": "code",
   "execution_count": 12,
   "id": "de145f22",
   "metadata": {},
   "outputs": [
    {
     "name": "stdout",
     "output_type": "stream",
     "text": [
      "ls /home/sagnik/Desktop/IRyS/ > local.txt\n"
     ]
    }
   ],
   "source": [
    "print(f\"ls {path_to_save}/ > local.txt\")"
   ]
  },
  {
   "cell_type": "code",
   "execution_count": 37,
   "id": "509e1fd1",
   "metadata": {},
   "outputs": [],
   "source": [
    "%%bash\n",
    "ls $path_to_save > local.txt"
   ]
  },
  {
   "cell_type": "code",
   "execution_count": 38,
   "id": "f98b22be",
   "metadata": {},
   "outputs": [
    {
     "name": "stdout",
     "output_type": "stream",
     "text": [
      "1\n"
     ]
    }
   ],
   "source": [
    "with open(\"online.txt\",'r') as onl:\n",
    "    online = [line.rstrip().split('[')[1][:-1] for line in onl]\n",
    "    \n",
    "print(len(online))"
   ]
  },
  {
   "cell_type": "code",
   "execution_count": 39,
   "id": "345d2417",
   "metadata": {},
   "outputs": [
    {
     "data": {
      "text/plain": [
       "'uzEEffCJOjs'"
      ]
     },
     "execution_count": 39,
     "metadata": {},
     "output_type": "execute_result"
    }
   ],
   "source": [
    "online[-1]"
   ]
  },
  {
   "cell_type": "code",
   "execution_count": 40,
   "id": "0b9f0231",
   "metadata": {},
   "outputs": [
    {
     "name": "stdout",
     "output_type": "stream",
     "text": [
      "diff-maker\n",
      "\n"
     ]
    }
   ],
   "source": [
    "working_dir_name = working_dir.split('/')[-1]\n",
    "print(working_dir_name)"
   ]
  },
  {
   "cell_type": "code",
   "execution_count": 41,
   "id": "ea38b50d",
   "metadata": {},
   "outputs": [
    {
     "name": "stdout",
     "output_type": "stream",
     "text": [
      "1\n"
     ]
    }
   ],
   "source": [
    "with open(\"local.txt\",'r') as loc:\n",
    "    local = [line.rstrip().split('[')[1].split(']')[0] for line in loc if line != working_dir_name]\n",
    "    \n",
    "print(len(local))"
   ]
  },
  {
   "cell_type": "code",
   "execution_count": 42,
   "id": "deb0ed33",
   "metadata": {},
   "outputs": [
    {
     "data": {
      "text/plain": [
       "'x_0Zc26jkDw'"
      ]
     },
     "execution_count": 42,
     "metadata": {},
     "output_type": "execute_result"
    }
   ],
   "source": [
    "local[-1]"
   ]
  },
  {
   "cell_type": "code",
   "execution_count": 43,
   "id": "6a90bc8d",
   "metadata": {},
   "outputs": [],
   "source": [
    "online = set(online)\n",
    "local = set(local)"
   ]
  },
  {
   "cell_type": "code",
   "execution_count": 44,
   "id": "c51f71eb",
   "metadata": {
    "scrolled": true
   },
   "outputs": [
    {
     "name": "stdout",
     "output_type": "stream",
     "text": [
      "{'uzEEffCJOjs'}\n"
     ]
    }
   ],
   "source": [
    "print(online)"
   ]
  },
  {
   "cell_type": "code",
   "execution_count": 45,
   "id": "730d32fa",
   "metadata": {
    "scrolled": true
   },
   "outputs": [
    {
     "name": "stdout",
     "output_type": "stream",
     "text": [
      "{'x_0Zc26jkDw'}\n"
     ]
    }
   ],
   "source": [
    "print(local)"
   ]
  },
  {
   "cell_type": "markdown",
   "id": "df70d048",
   "metadata": {},
   "source": [
    "Explanation: <br>A - B is equal to the elements present in A but not in B\n",
    "             <br>B - A is equal to the elements present in B but not in A"
   ]
  },
  {
   "cell_type": "code",
   "execution_count": 46,
   "id": "c101cfba",
   "metadata": {
    "scrolled": true
   },
   "outputs": [],
   "source": [
    "to_dl = online - local"
   ]
  },
  {
   "cell_type": "code",
   "execution_count": 47,
   "id": "5add982e",
   "metadata": {},
   "outputs": [
    {
     "name": "stdout",
     "output_type": "stream",
     "text": [
      "{'uzEEffCJOjs'}\n"
     ]
    }
   ],
   "source": [
    "print(to_dl)"
   ]
  },
  {
   "cell_type": "code",
   "execution_count": 61,
   "id": "273e0769",
   "metadata": {},
   "outputs": [],
   "source": [
    "urlList  = []\n",
    "with open(\"to_download.txt\",'w') as out:\n",
    "    for idx in to_dl:\n",
    "        url = \"https://www.youtube.com/watch?v=\"+idx+'\\n'\n",
    "        out.write(url)\n",
    "        urlList.append(url)"
   ]
  },
  {
   "cell_type": "code",
   "execution_count": 49,
   "id": "29ce2889",
   "metadata": {
    "scrolled": false
   },
   "outputs": [],
   "source": [
    "possibly_deleted = local - online"
   ]
  },
  {
   "cell_type": "code",
   "execution_count": 50,
   "id": "71ccf54e",
   "metadata": {},
   "outputs": [
    {
     "name": "stdout",
     "output_type": "stream",
     "text": [
      "{'x_0Zc26jkDw'}\n"
     ]
    }
   ],
   "source": [
    "print(possibly_deleted)"
   ]
  },
  {
   "cell_type": "code",
   "execution_count": 27,
   "id": "2ea36a5e",
   "metadata": {},
   "outputs": [],
   "source": [
    "choice = input(\"Download? \")\n",
    "if choice == \"yes\":\n",
    "    pass\n",
    "else:\n",
    "    raise NotImplementedError(\"Okey then stopping\")"
   ]
  },
  {
   "cell_type": "code",
   "execution_count": 28,
   "id": "7a692b78",
   "metadata": {},
   "outputs": [
    {
     "data": {
      "text/plain": [
       "'/home/sagnik/Projects/diff-maker'"
      ]
     },
     "execution_count": 28,
     "metadata": {},
     "output_type": "execute_result"
    }
   ],
   "source": [
    "working_dir[:-1]"
   ]
  },
  {
   "cell_type": "code",
   "execution_count": 29,
   "id": "30dd6e03",
   "metadata": {
    "scrolled": true
   },
   "outputs": [],
   "source": [
    "environ['dl_file'] = working_dir[:-1]+\"/to_download.txt\""
   ]
  },
  {
   "cell_type": "code",
   "execution_count": 30,
   "id": "847ac8ee",
   "metadata": {},
   "outputs": [
    {
     "name": "stdout",
     "output_type": "stream",
     "text": [
      "/home/sagnik/Projects/diff-maker/to_download.txt\n",
      "/home/sagnik/Desktop/IRyS\n"
     ]
    }
   ],
   "source": [
    "%%bash\n",
    "echo $dl_file\n",
    "echo $path_to_save"
   ]
  },
  {
   "cell_type": "code",
   "execution_count": 31,
   "id": "3d038fc5",
   "metadata": {},
   "outputs": [
    {
     "name": "stdout",
     "output_type": "stream",
     "text": [
      "yt-dlp --batch-file /home/sagnik/Projects/diff-maker/to_download.txt --paths /home/sagnik/Desktop/IRyS\n"
     ]
    }
   ],
   "source": [
    "print(f\"yt-dlp --batch-file {environ['dl_file']} --paths {environ['path_to_save']}\")"
   ]
  },
  {
   "cell_type": "code",
   "execution_count": 32,
   "id": "9a2c4c82",
   "metadata": {},
   "outputs": [
    {
     "name": "stdout",
     "output_type": "stream",
     "text": [
      "[youtube] x_0Zc26jkDw: Downloading webpage\n",
      "[youtube] x_0Zc26jkDw: Downloading android player API JSON\n",
      "[info] x_0Zc26jkDw: Downloading 1 format(s): 271+251\n",
      "[download] Destination: /home/sagnik/Desktop/IRyS/【IRyS】INTERNET OVERDOSE【Cover】 [x_0Zc26jkDw].f271.webm\n",
      "[download] 100% of 156.08MiB in 00:56                   \n",
      "[download] Destination: /home/sagnik/Desktop/IRyS/【IRyS】INTERNET OVERDOSE【Cover】 [x_0Zc26jkDw].f251.webm\n",
      "[download] 100% of 3.38MiB in 00:01                  \n",
      "[Merger] Merging formats into \"/home/sagnik/Desktop/IRyS/【IRyS】INTERNET OVERDOSE【Cover】 [x_0Zc26jkDw].webm\"\n",
      "Deleting original file /home/sagnik/Desktop/IRyS/【IRyS】INTERNET OVERDOSE【Cover】 [x_0Zc26jkDw].f271.webm (pass -k to keep)\n",
      "Deleting original file /home/sagnik/Desktop/IRyS/【IRyS】INTERNET OVERDOSE【Cover】 [x_0Zc26jkDw].f251.webm (pass -k to keep)\n"
     ]
    }
   ],
   "source": [
    "%%bash\n",
    "yt-dlp --batch-file $dl_file --paths $path_to_save"
   ]
  },
  {
   "cell_type": "code",
   "execution_count": 51,
   "id": "80a8a6c8",
   "metadata": {},
   "outputs": [],
   "source": [
    "import yt_dlp"
   ]
  },
  {
   "cell_type": "code",
   "execution_count": 59,
   "id": "7d807c42",
   "metadata": {},
   "outputs": [],
   "source": [
    "url_iter  = iter(urlList)\n",
    "ydl_opts_audio = {\n",
    "    'format': 'm4a/bestaudio/best',\n",
    "    # ℹ️ See help(yt_dlp.postprocessor) for a list of available Postprocessors and their arguments\n",
    "    'postprocessors': [{  # Extract audio using ffmpeg\n",
    "        'key': 'FFmpegExtractAudio',\n",
    "        'preferredcodec': 'm4a',\n",
    "    }]\n",
    "}\n",
    "chdir(environ['path_to_save'])"
   ]
  },
  {
   "cell_type": "code",
   "execution_count": 62,
   "id": "ee67cc66",
   "metadata": {},
   "outputs": [
    {
     "name": "stdout",
     "output_type": "stream",
     "text": [
      "[youtube] uzEEffCJOjs: Downloading webpage\n",
      "[youtube] uzEEffCJOjs: Downloading android player API JSON\n",
      "[info] uzEEffCJOjs: Downloading 1 format(s): 248+251\n",
      "[download] Destination: 【IRyS】GHOST _ 星街すいせい【COVER】 [uzEEffCJOjs].f248.webm\n",
      "[download] 100% of 57.65MiB in 00:13                   \n",
      "[download] Destination: 【IRyS】GHOST _ 星街すいせい【COVER】 [uzEEffCJOjs].f251.webm\n",
      "[download] 100% of 4.43MiB in 00:00                  \n",
      "[Merger] Merging formats into \"【IRyS】GHOST _ 星街すいせい【COVER】 [uzEEffCJOjs].webm\"\n",
      "Deleting original file 【IRyS】GHOST _ 星街すいせい【COVER】 [uzEEffCJOjs].f248.webm (pass -k to keep)\n",
      "Deleting original file 【IRyS】GHOST _ 星街すいせい【COVER】 [uzEEffCJOjs].f251.webm (pass -k to keep)\n",
      "Done\n"
     ]
    }
   ],
   "source": [
    "while True:\n",
    "    try:\n",
    "        with yt_dlp.YoutubeDL() as ydl:\n",
    "            error_code = ydl.download(url_iter.__next__())\n",
    "    except StopIteration:\n",
    "        print(\"Done\")\n",
    "        break"
   ]
  }
 ],
 "metadata": {
  "kernelspec": {
   "display_name": "Python 3.8.10 64-bit",
   "language": "python",
   "name": "python3"
  },
  "language_info": {
   "codemirror_mode": {
    "name": "ipython",
    "version": 3
   },
   "file_extension": ".py",
   "mimetype": "text/x-python",
   "name": "python",
   "nbconvert_exporter": "python",
   "pygments_lexer": "ipython3",
   "version": "3.10.6"
  },
  "vscode": {
   "interpreter": {
    "hash": "31f2aee4e71d21fbe5cf8b01ff0e069b9275f58929596ceb00d14d90e3e16cd6"
   }
  }
 },
 "nbformat": 4,
 "nbformat_minor": 5
}
